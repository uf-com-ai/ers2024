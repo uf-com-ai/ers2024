{
 "cells": [
  {
   "cell_type": "markdown",
   "id": "6a8b3c41",
   "metadata": {
    "id": "6a8b3c41"
   },
   "source": [
    "<img src=\"graphics/header.png\" width=\"75%\"/>\n",
    "\n",
    "# **Biomedical Data Analysis**\n",
    "---\n",
    "\n",
    "Although the majority of published AI research focuses on model development, the majority of time in many clinical AI projects is spent on **data**: extraction, cleaning, exploration, analysis, and transformation to AI/ML-ready datasets that can be modeled with machine learning algorithms.\n",
    "\n",
    "Many experts have begun to advocate for **data-centric AI**, in which data quality and curation is priorized over model architectures, training, and parameter tuning.<sup>[1](https://datacentricai.org)</sup> As the landscape of AI algorithms and models becomes more mature, systematic data engineering and quality assurance is expected to result in higher quality models that drive better patient and health system outcomes.\n",
    "\n",
    "It is essential for clinical AI researchers to possess the skills and tools necessary for exploring and better understanding their own dataset. \n",
    "\n",
    "<figure><center>\n",
    "    <p style=\"text-align: center;\">\n",
    "        <img src='graphics/dcai.png' alt='Data-centric AI' width=\"30%\" />&nbsp; &nbsp; &nbsp; &nbsp;\n",
    "        <img src='graphics/data_centric_ai.png' alt='Data-centric AI' width=\"60%\" />\n",
    "    </p>\n",
    "    <figcaption><b>High-quality AI requires high-quality data.</b> Data-centric AI formalizes a process for systematic data engineering. <sup><a href=\"https://arxiv.org/pdf/2301.04819.pdf\">2</a></sup><sup>,</sup><sup><a href=\"https://proceedings.neurips.cc/paper_files/paper/2023/hash/112db88215e25b3ae2750e9eefcded94-Abstract-Datasets_and_Benchmarks.html\">3</a></sup></figcaption>\n",
    "</figure>\n",
    "\n",
    "This lesson will equip you with the necessary data-centric tools to acquire, explore, and maintain high quality structured patient data for downstream clinical machine learning tasks. You will learn how to use one of the most powerful Python libraries for data analysis and manipulation (**[pandas](https://pandas.pydata.org)**), and use it to approach structured ICU patient data from multiple perspectives involved in common biomedical data science and clinical AI pipelines.\n",
    "\n",
    "<img src='graphics/pandas_logo.png' alt='The Pandas logo' align='center' width=200>"
   ]
  },
  {
   "cell_type": "markdown",
   "id": "c1b3e4cd",
   "metadata": {},
   "source": [
    "After this module, students will be able to:\n",
    "* Explain the various components of a *pandas* dataframe.\n",
    "* Use the `read_csv()` function to create new dataframes from real-world patient data.\n",
    "* Slice and dice data with *pandas* index and dataframe management functions.\n",
    "* Illustrate the appropriate use of basic statistical functions to summarize a clinical dataset.\n",
    "* Use matplotlib functions to generate clear graphs and plots.\n",
    "\n",
    "While pandas is widely used across many domains, in this lesson we'll be working in the context of **patient data** from **critical care settings**.\n",
    "\n",
    "### **🚀 Let's get started.**"
   ]
  },
  {
   "cell_type": "markdown",
   "id": "0b3af23e",
   "metadata": {},
   "source": [
    "Like we learned last module, before we can use pandas, we must **import** the pandas library.\n",
    "* For illustration purposes, we'll also import the scientific computing library NumPy.\n",
    "* Both NumPy and pandas are usually imported with abbreviated aliases, `np` and `pd`."
   ]
  },
  {
   "cell_type": "code",
   "execution_count": 1,
   "id": "0e56bf5f",
   "metadata": {},
   "outputs": [],
   "source": [
    "import numpy as np\n",
    "import pandas as pd"
   ]
  },
  {
   "cell_type": "markdown",
   "id": "99857f15",
   "metadata": {},
   "source": [
    "## Pandas Dataframes\n",
    "\n",
    "*pandas* provides one of the most useful data structures for managing data: the dataframe.\n",
    "\n",
    "### **Dataframes..**\n",
    "* allow fast, flexible, and efficient data manipulation.\n",
    "* are the natural data structure for **tabular** data.\n",
    "* are two-dimensional, containing both **rows** and **columns**.\n",
    "* consist of one or more **Series** (column)\n",
    "\n",
    "\n",
    "***pandas*** is built on top of the **NumPy** library, which in practice means that most of the methods defined for NumPy Arrays apply to *pandas* Series/DataFrames.\n",
    "\n",
    "### **What makes Pandas so attractive?**\n",
    "1. Powerful and efficient interface to access and manipulate individual records.\n",
    "2. Proper handling of missing values.\n",
    "3. Relational database-style operations between DataFrames."
   ]
  },
  {
   "cell_type": "markdown",
   "id": "55746954",
   "metadata": {},
   "source": [
    "# Creating a Series\n",
    "\n",
    "Let's start by creating our first *pandas* Series! (Remember: in the context of a **DataFrame** (table), each column is represented by a **Series**)."
   ]
  },
  {
   "cell_type": "markdown",
   "id": "4b01d9b5",
   "metadata": {},
   "source": [
    "First, let's create some sample data to illustrate the creation of our Series."
   ]
  },
  {
   "cell_type": "code",
   "execution_count": 2,
   "id": "4312e1c5",
   "metadata": {},
   "outputs": [],
   "source": [
    "spo2 = [88, 99, 88, 85, 100, 98] # Review: this is a Python list, containing 6 values.\n",
    "risk = ['high', 'low', 'high', 'high', 'low', 'low']"
   ]
  },
  {
   "cell_type": "code",
   "execution_count": 3,
   "id": "c75cc46f",
   "metadata": {},
   "outputs": [
    {
     "data": {
      "text/plain": [
       "0     88\n",
       "1     99\n",
       "2     88\n",
       "3     85\n",
       "4    100\n",
       "5     98\n",
       "dtype: int64"
      ]
     },
     "execution_count": 3,
     "metadata": {},
     "output_type": "execute_result"
    }
   ],
   "source": [
    "# Create our first series\n",
    "spo2_series = pd.Series(spo2)\n",
    "spo2_series # If a variable name is the last line in a code cell, Jupyter will display the contents of the variable."
   ]
  },
  {
   "cell_type": "code",
   "execution_count": 4,
   "id": "8c3bf8f7",
   "metadata": {},
   "outputs": [
    {
     "data": {
      "text/plain": [
       "0    high\n",
       "1     low\n",
       "2    high\n",
       "3    high\n",
       "4     low\n",
       "5     low\n",
       "dtype: object"
      ]
     },
     "execution_count": 4,
     "metadata": {},
     "output_type": "execute_result"
    }
   ],
   "source": [
    "# Do the same for risk\n",
    "pd.Series(risk) # Display the 'risk' series"
   ]
  },
  {
   "cell_type": "markdown",
   "id": "82ae812e",
   "metadata": {
    "id": "82ae812e"
   },
   "source": [
    "# Creating a Pandas Dataframe\n",
    "\n",
    "* Now that we've seen a Series, we can look at how these are combined as **columns** in a **table**.\n",
    "* By popular convention, we will name our DataFrame variable `df`."
   ]
  },
  {
   "cell_type": "markdown",
   "id": "49f9f24a",
   "metadata": {},
   "source": [
    "Let's create a small DataFrame from our very basic sample data."
   ]
  },
  {
   "cell_type": "code",
   "execution_count": 5,
   "id": "094f5a0a",
   "metadata": {},
   "outputs": [
    {
     "data": {
      "text/html": [
       "<div>\n",
       "<style scoped>\n",
       "    .dataframe tbody tr th:only-of-type {\n",
       "        vertical-align: middle;\n",
       "    }\n",
       "\n",
       "    .dataframe tbody tr th {\n",
       "        vertical-align: top;\n",
       "    }\n",
       "\n",
       "    .dataframe thead th {\n",
       "        text-align: right;\n",
       "    }\n",
       "</style>\n",
       "<table border=\"1\" class=\"dataframe\">\n",
       "  <thead>\n",
       "    <tr style=\"text-align: right;\">\n",
       "      <th></th>\n",
       "      <th>spo2</th>\n",
       "      <th>risk</th>\n",
       "    </tr>\n",
       "  </thead>\n",
       "  <tbody>\n",
       "    <tr>\n",
       "      <th>0</th>\n",
       "      <td>88</td>\n",
       "      <td>high</td>\n",
       "    </tr>\n",
       "    <tr>\n",
       "      <th>1</th>\n",
       "      <td>99</td>\n",
       "      <td>low</td>\n",
       "    </tr>\n",
       "    <tr>\n",
       "      <th>2</th>\n",
       "      <td>88</td>\n",
       "      <td>high</td>\n",
       "    </tr>\n",
       "    <tr>\n",
       "      <th>3</th>\n",
       "      <td>85</td>\n",
       "      <td>high</td>\n",
       "    </tr>\n",
       "    <tr>\n",
       "      <th>4</th>\n",
       "      <td>100</td>\n",
       "      <td>low</td>\n",
       "    </tr>\n",
       "    <tr>\n",
       "      <th>5</th>\n",
       "      <td>98</td>\n",
       "      <td>low</td>\n",
       "    </tr>\n",
       "  </tbody>\n",
       "</table>\n",
       "</div>"
      ],
      "text/plain": [
       "   spo2  risk\n",
       "0    88  high\n",
       "1    99   low\n",
       "2    88  high\n",
       "3    85  high\n",
       "4   100   low\n",
       "5    98   low"
      ]
     },
     "execution_count": 5,
     "metadata": {},
     "output_type": "execute_result"
    }
   ],
   "source": [
    "df = pd.DataFrame({'spo2': spo2, 'risk': risk}) # Create the DataFrame\n",
    "df # View the DataFrame"
   ]
  },
  {
   "cell_type": "markdown",
   "id": "30b3a34a",
   "metadata": {},
   "source": [
    "Let's now create a larger DataFrame using random data."
   ]
  },
  {
   "cell_type": "code",
   "execution_count": 6,
   "id": "1f9d2f08",
   "metadata": {
    "colab": {
     "base_uri": "https://localhost:8080/",
     "height": 143
    },
    "id": "1f9d2f08",
    "outputId": "19429c60-6869-44c7-b761-f2fecd589310"
   },
   "outputs": [
    {
     "data": {
      "text/html": [
       "<div>\n",
       "<style scoped>\n",
       "    .dataframe tbody tr th:only-of-type {\n",
       "        vertical-align: middle;\n",
       "    }\n",
       "\n",
       "    .dataframe tbody tr th {\n",
       "        vertical-align: top;\n",
       "    }\n",
       "\n",
       "    .dataframe thead th {\n",
       "        text-align: right;\n",
       "    }\n",
       "</style>\n",
       "<table border=\"1\" class=\"dataframe\">\n",
       "  <thead>\n",
       "    <tr style=\"text-align: right;\">\n",
       "      <th></th>\n",
       "      <th>columnA</th>\n",
       "      <th>columnB</th>\n",
       "      <th>columnC</th>\n",
       "      <th>columnD</th>\n",
       "    </tr>\n",
       "  </thead>\n",
       "  <tbody>\n",
       "    <tr>\n",
       "      <th>0</th>\n",
       "      <td>6</td>\n",
       "      <td>5</td>\n",
       "      <td>4</td>\n",
       "      <td>8</td>\n",
       "    </tr>\n",
       "    <tr>\n",
       "      <th>1</th>\n",
       "      <td>8</td>\n",
       "      <td>2</td>\n",
       "      <td>6</td>\n",
       "      <td>1</td>\n",
       "    </tr>\n",
       "    <tr>\n",
       "      <th>2</th>\n",
       "      <td>5</td>\n",
       "      <td>7</td>\n",
       "      <td>7</td>\n",
       "      <td>6</td>\n",
       "    </tr>\n",
       "    <tr>\n",
       "      <th>3</th>\n",
       "      <td>4</td>\n",
       "      <td>6</td>\n",
       "      <td>1</td>\n",
       "      <td>3</td>\n",
       "    </tr>\n",
       "    <tr>\n",
       "      <th>4</th>\n",
       "      <td>4</td>\n",
       "      <td>7</td>\n",
       "      <td>7</td>\n",
       "      <td>2</td>\n",
       "    </tr>\n",
       "    <tr>\n",
       "      <th>...</th>\n",
       "      <td>...</td>\n",
       "      <td>...</td>\n",
       "      <td>...</td>\n",
       "      <td>...</td>\n",
       "    </tr>\n",
       "    <tr>\n",
       "      <th>495</th>\n",
       "      <td>4</td>\n",
       "      <td>8</td>\n",
       "      <td>8</td>\n",
       "      <td>8</td>\n",
       "    </tr>\n",
       "    <tr>\n",
       "      <th>496</th>\n",
       "      <td>6</td>\n",
       "      <td>9</td>\n",
       "      <td>5</td>\n",
       "      <td>5</td>\n",
       "    </tr>\n",
       "    <tr>\n",
       "      <th>497</th>\n",
       "      <td>9</td>\n",
       "      <td>9</td>\n",
       "      <td>5</td>\n",
       "      <td>1</td>\n",
       "    </tr>\n",
       "    <tr>\n",
       "      <th>498</th>\n",
       "      <td>6</td>\n",
       "      <td>7</td>\n",
       "      <td>1</td>\n",
       "      <td>7</td>\n",
       "    </tr>\n",
       "    <tr>\n",
       "      <th>499</th>\n",
       "      <td>9</td>\n",
       "      <td>6</td>\n",
       "      <td>6</td>\n",
       "      <td>9</td>\n",
       "    </tr>\n",
       "  </tbody>\n",
       "</table>\n",
       "<p>500 rows × 4 columns</p>\n",
       "</div>"
      ],
      "text/plain": [
       "     columnA  columnB  columnC  columnD\n",
       "0          6        5        4        8\n",
       "1          8        2        6        1\n",
       "2          5        7        7        6\n",
       "3          4        6        1        3\n",
       "4          4        7        7        2\n",
       "..       ...      ...      ...      ...\n",
       "495        4        8        8        8\n",
       "496        6        9        5        5\n",
       "497        9        9        5        1\n",
       "498        6        7        1        7\n",
       "499        9        6        6        9\n",
       "\n",
       "[500 rows x 4 columns]"
      ]
     },
     "execution_count": 6,
     "metadata": {},
     "output_type": "execute_result"
    }
   ],
   "source": [
    "# Make some random numbers for data. \n",
    "# This makes an array of random integers from 1-10, then reshapes it into a 500x4 matrix (500 rows and 4 columns)\n",
    "random_data = np.random.randint(1,10, size=2000).reshape(500, 4)\n",
    "\n",
    "# Create some example column names\n",
    "column_names = ['columnA', 'columnB', 'columnC', 'columnD']\n",
    "\n",
    "# Create the DataFrame from the random data we generated.\n",
    "# Since the input matrix has 500 rows and 4 columns, the DataFrame will have 500 rows and 4 columns\n",
    "df = pd.DataFrame(data=random_data, columns=column_names)\n",
    "df # View the dataframe"
   ]
  },
  {
   "cell_type": "markdown",
   "id": "9e00c7d4",
   "metadata": {},
   "source": [
    "> **📌 Note:** When viewing a large DataFrame in a Jupyter notebook, sometimes the data will be truncated as above."
   ]
  },
  {
   "cell_type": "markdown",
   "id": "6cf367e3",
   "metadata": {
    "id": "6cf367e3"
   },
   "source": [
    "# Creating a DataFrame from an existing data file\n",
    "\n",
    "Instead of creating a DataFrame from scratch (which is quite tedious!), usually we create a DataFrame by loading an existing data file. The most common file format for storing datasets is the **comma-separated value** `(.csv)` file.\n",
    "\n",
    "To create a pandas DataFrame from a `.csv` file, we'll use the `read_csv()` function."
   ]
  },
  {
   "cell_type": "markdown",
   "id": "51a7d5d0",
   "metadata": {},
   "source": [
    "### Let's load some real-world patient data from an electronic health record (EHR) system.\n",
    "The main input argument to the `read_csv()` function can be a local filename, or a remote URL of a file stored on the web. In this example, we'll be using an online file."
   ]
  },
  {
   "cell_type": "code",
   "execution_count": 7,
   "id": "18a17ef6",
   "metadata": {},
   "outputs": [
    {
     "data": {
      "text/html": [
       "<div>\n",
       "<style scoped>\n",
       "    .dataframe tbody tr th:only-of-type {\n",
       "        vertical-align: middle;\n",
       "    }\n",
       "\n",
       "    .dataframe tbody tr th {\n",
       "        vertical-align: top;\n",
       "    }\n",
       "\n",
       "    .dataframe thead th {\n",
       "        text-align: right;\n",
       "    }\n",
       "</style>\n",
       "<table border=\"1\" class=\"dataframe\">\n",
       "  <thead>\n",
       "    <tr style=\"text-align: right;\">\n",
       "      <th></th>\n",
       "      <th>patient_id</th>\n",
       "      <th>time</th>\n",
       "      <th>temp_source</th>\n",
       "      <th>temp_value</th>\n",
       "      <th>temp_unit</th>\n",
       "    </tr>\n",
       "  </thead>\n",
       "  <tbody>\n",
       "    <tr>\n",
       "      <th>0</th>\n",
       "      <td>1</td>\n",
       "      <td>1984-06-18 17:58:02</td>\n",
       "      <td>Core</td>\n",
       "      <td>97.3</td>\n",
       "      <td>Farenheit</td>\n",
       "    </tr>\n",
       "    <tr>\n",
       "      <th>1</th>\n",
       "      <td>2</td>\n",
       "      <td>1965-02-16 12:34:29</td>\n",
       "      <td>Oral</td>\n",
       "      <td>96.7</td>\n",
       "      <td>Farenheit</td>\n",
       "    </tr>\n",
       "    <tr>\n",
       "      <th>2</th>\n",
       "      <td>2</td>\n",
       "      <td>1999-09-28 01:35:52</td>\n",
       "      <td>Tympanic</td>\n",
       "      <td>98.2</td>\n",
       "      <td>Farenheit</td>\n",
       "    </tr>\n",
       "    <tr>\n",
       "      <th>3</th>\n",
       "      <td>2</td>\n",
       "      <td>2071-02-23 10:36:34</td>\n",
       "      <td>Temporal</td>\n",
       "      <td>96.5</td>\n",
       "      <td>Farenheit</td>\n",
       "    </tr>\n",
       "    <tr>\n",
       "      <th>4</th>\n",
       "      <td>3</td>\n",
       "      <td>1988-05-10 01:38:51</td>\n",
       "      <td>Oral</td>\n",
       "      <td>97.2</td>\n",
       "      <td>Farenheit</td>\n",
       "    </tr>\n",
       "    <tr>\n",
       "      <th>...</th>\n",
       "      <td>...</td>\n",
       "      <td>...</td>\n",
       "      <td>...</td>\n",
       "      <td>...</td>\n",
       "      <td>...</td>\n",
       "    </tr>\n",
       "    <tr>\n",
       "      <th>1995</th>\n",
       "      <td>998</td>\n",
       "      <td>1985-05-14 00:14:54</td>\n",
       "      <td>Tympanic</td>\n",
       "      <td>95.5</td>\n",
       "      <td>Farenheit</td>\n",
       "    </tr>\n",
       "    <tr>\n",
       "      <th>1996</th>\n",
       "      <td>998</td>\n",
       "      <td>2036-03-15 06:59:01</td>\n",
       "      <td>Oral</td>\n",
       "      <td>97.7</td>\n",
       "      <td>Farenheit</td>\n",
       "    </tr>\n",
       "    <tr>\n",
       "      <th>1997</th>\n",
       "      <td>998</td>\n",
       "      <td>2074-03-17 21:21:09</td>\n",
       "      <td>Oral</td>\n",
       "      <td>98.1</td>\n",
       "      <td>Farenheit</td>\n",
       "    </tr>\n",
       "    <tr>\n",
       "      <th>1998</th>\n",
       "      <td>999</td>\n",
       "      <td>2017-02-03 01:23:52</td>\n",
       "      <td>Oral</td>\n",
       "      <td>97.4</td>\n",
       "      <td>Farenheit</td>\n",
       "    </tr>\n",
       "    <tr>\n",
       "      <th>1999</th>\n",
       "      <td>999</td>\n",
       "      <td>2039-01-21 02:31:01</td>\n",
       "      <td>Temporal</td>\n",
       "      <td>98.7</td>\n",
       "      <td>Farenheit</td>\n",
       "    </tr>\n",
       "  </tbody>\n",
       "</table>\n",
       "<p>2000 rows × 5 columns</p>\n",
       "</div>"
      ],
      "text/plain": [
       "      patient_id                 time temp_source  temp_value  temp_unit\n",
       "0              1  1984-06-18 17:58:02        Core        97.3  Farenheit\n",
       "1              2  1965-02-16 12:34:29        Oral        96.7  Farenheit\n",
       "2              2  1999-09-28 01:35:52    Tympanic        98.2  Farenheit\n",
       "3              2  2071-02-23 10:36:34    Temporal        96.5  Farenheit\n",
       "4              3  1988-05-10 01:38:51        Oral        97.2  Farenheit\n",
       "...          ...                  ...         ...         ...        ...\n",
       "1995         998  1985-05-14 00:14:54    Tympanic        95.5  Farenheit\n",
       "1996         998  2036-03-15 06:59:01        Oral        97.7  Farenheit\n",
       "1997         998  2074-03-17 21:21:09        Oral        98.1  Farenheit\n",
       "1998         999  2017-02-03 01:23:52        Oral        97.4  Farenheit\n",
       "1999         999  2039-01-21 02:31:01    Temporal        98.7  Farenheit\n",
       "\n",
       "[2000 rows x 5 columns]"
      ]
     },
     "execution_count": 7,
     "metadata": {},
     "output_type": "execute_result"
    }
   ],
   "source": [
    "url='https://www.dropbox.com/scl/fi/6oalhztas5ox5zcna9ois/temperature.csv?rlkey=zwf8f80dqa92dep1rm8kjnx9m&dl=1'\n",
    "df = pd.read_csv(url) # Create the DataFrame from the given URL\n",
    "df # View the DataFrame we just created"
   ]
  },
  {
   "cell_type": "markdown",
   "id": "8e6be464",
   "metadata": {},
   "source": [
    "We can see that this dataset contains 2000 rows and 5 columns corresponding to patient temperature measurements from an EHR system.   \n",
    "\n",
    "Below is a more detailed description of each column:"
   ]
  },
  {
   "cell_type": "markdown",
   "id": "f0f8e7d1",
   "metadata": {},
   "source": [
    "| Column |  Description |\n",
    "| --- | --- |\n",
    "|  patient |   unique patient identifier |\n",
    "|  time |   the date and time of temperature measurement |\n",
    "|  temp_source |   the temperature acquisition method |\n",
    "|  temp_value |   the measured temperature value |\n",
    "|  temp_unit |   the temperature measurement unit |"
   ]
  },
  {
   "cell_type": "markdown",
   "id": "47YUaLX0zc_8",
   "metadata": {
    "id": "47YUaLX0zc_8"
   },
   "source": [
    "# Viewing Parts of a Dataframe\n",
    "* DataFrames often hold a large number of rows (in many AI projects, you might be dealing with hundreds of thousands, or even millions, of samples!)\n",
    "* Sometimes we just want to get a preview, or a sense of what data is being stored in our DataFrame.\n",
    "* In the below examples, we'll see a few ways to view parts of a DataFrame\n",
    "    * This includes viewing a subset of columns, or a subset of rows, or both.\n",
    "\n",
    "Let's start by viewing only some of a DataFrame's **rows**. Since pandas is so flexible, there are several ways to accomplish this. In the examples below, we will use the pandas functions `head()` and `tail()`."
   ]
  },
  {
   "cell_type": "markdown",
   "id": "e6b380d7",
   "metadata": {},
   "source": [
    "> **✏️ Exercise:** Use the `head()` function to view the first 5 rows of our `df` DataFrame. **Hint:** Given a dataframe `X`, calling `X.head()` will show the first `5` rows of the DataFrame.  "
   ]
  },
  {
   "cell_type": "code",
   "execution_count": 8,
   "id": "95f5d8dd",
   "metadata": {},
   "outputs": [],
   "source": [
    "# Code it!\n"
   ]
  },
  {
   "cell_type": "markdown",
   "id": "9bd524d6",
   "metadata": {},
   "source": [
    "> **✏️ Exercise:** Use `head()` to view the first **10** rows of `df`. (**Hint:** You can also provide an input argument `n` to the `head()` function to show the first `n` rows (instead of the default `5` rows)."
   ]
  },
  {
   "cell_type": "code",
   "execution_count": 9,
   "id": "d0be82b9",
   "metadata": {},
   "outputs": [],
   "source": [
    "# Code it!\n"
   ]
  },
  {
   "cell_type": "markdown",
   "id": "44f9d9ca",
   "metadata": {},
   "source": [
    "> **✏️ Exercise:** Use `tail()` to view the **last** 5 rows of our `df` DataFrame. (**Hint:** Given a dataframe `X`, calling `X.tail()` will show the **last** `5` rows of the DataFrame.  "
   ]
  },
  {
   "cell_type": "code",
   "execution_count": 10,
   "id": "4535f19a",
   "metadata": {},
   "outputs": [],
   "source": [
    "# Code it!\n"
   ]
  },
  {
   "cell_type": "markdown",
   "id": "4349d214",
   "metadata": {},
   "source": [
    "> **✏️ Exercise:** Use `tail()` to view the **last** `10` rows of `df`. (**Hint:** You can also provide an input argument `n` to the `tail()` function to show the last `n` rows (instead of the default `5` rows)."
   ]
  },
  {
   "cell_type": "code",
   "execution_count": 11,
   "id": "50f56b56",
   "metadata": {},
   "outputs": [],
   "source": [
    "# Code it!\n"
   ]
  },
  {
   "cell_type": "markdown",
   "id": "2244b476",
   "metadata": {},
   "source": [
    "Now, let's see some different ways to view a subset of a DataFrame's **columns**. \n",
    "\n",
    "> **🎗️Reminder:** If the last line inside a code cell is simply a variable name, Jupyter will automatically display the value of that variable (no need for `print()` statements.)"
   ]
  },
  {
   "cell_type": "markdown",
   "id": "b9e7fe38",
   "metadata": {},
   "source": [
    "For a given DataFrame `df` and desired column `col`, one way to view a single column is to call `df['col']`. (**Important:** the column name `col` must be in quotes!).\n",
    "\n",
    "> **✏️ Exercise:** Use the above method to view the `temp_value` column of our `df` DataFrame."
   ]
  },
  {
   "cell_type": "code",
   "execution_count": 12,
   "id": "cfad1032",
   "metadata": {},
   "outputs": [],
   "source": [
    "# Code it!\n"
   ]
  },
  {
   "cell_type": "markdown",
   "id": "68ec6a34",
   "metadata": {},
   "source": [
    "We can also adapt this method to view multiple columns. Instead of passing in a single string column name `'C'`, instead we will pass in a **list** of string column names, e.g. `['A', 'B', 'C']`. For example: `df[['A', 'B', 'C']]` (**Important:** Notice the double brackets!)\n",
    "\n",
    "> **✏️ Exercise:** Use the above method to view the `temp_value` **and** `temp_unit` columns of our `df` DataFrame."
   ]
  },
  {
   "cell_type": "code",
   "execution_count": 13,
   "id": "f15bb025",
   "metadata": {},
   "outputs": [],
   "source": [
    "# Code it!\n"
   ]
  },
  {
   "cell_type": "code",
   "execution_count": 14,
   "id": "5b5c8604-cc6e-46d2-89ac-678d0f7732f4",
   "metadata": {},
   "outputs": [
    {
     "data": {
      "text/html": [
       "<div>\n",
       "<style scoped>\n",
       "    .dataframe tbody tr th:only-of-type {\n",
       "        vertical-align: middle;\n",
       "    }\n",
       "\n",
       "    .dataframe tbody tr th {\n",
       "        vertical-align: top;\n",
       "    }\n",
       "\n",
       "    .dataframe thead th {\n",
       "        text-align: right;\n",
       "    }\n",
       "</style>\n",
       "<table border=\"1\" class=\"dataframe\">\n",
       "  <thead>\n",
       "    <tr style=\"text-align: right;\">\n",
       "      <th></th>\n",
       "      <th>patient_id</th>\n",
       "      <th>time</th>\n",
       "      <th>temp_source</th>\n",
       "      <th>temp_value</th>\n",
       "      <th>temp_unit</th>\n",
       "    </tr>\n",
       "  </thead>\n",
       "  <tbody>\n",
       "    <tr>\n",
       "      <th>0</th>\n",
       "      <td>1</td>\n",
       "      <td>1984-06-18 17:58:02</td>\n",
       "      <td>Core</td>\n",
       "      <td>97.3</td>\n",
       "      <td>Farenheit</td>\n",
       "    </tr>\n",
       "    <tr>\n",
       "      <th>1</th>\n",
       "      <td>2</td>\n",
       "      <td>1965-02-16 12:34:29</td>\n",
       "      <td>Oral</td>\n",
       "      <td>96.7</td>\n",
       "      <td>Farenheit</td>\n",
       "    </tr>\n",
       "    <tr>\n",
       "      <th>2</th>\n",
       "      <td>2</td>\n",
       "      <td>1999-09-28 01:35:52</td>\n",
       "      <td>Tympanic</td>\n",
       "      <td>98.2</td>\n",
       "      <td>Farenheit</td>\n",
       "    </tr>\n",
       "    <tr>\n",
       "      <th>3</th>\n",
       "      <td>2</td>\n",
       "      <td>2071-02-23 10:36:34</td>\n",
       "      <td>Temporal</td>\n",
       "      <td>96.5</td>\n",
       "      <td>Farenheit</td>\n",
       "    </tr>\n",
       "    <tr>\n",
       "      <th>4</th>\n",
       "      <td>3</td>\n",
       "      <td>1988-05-10 01:38:51</td>\n",
       "      <td>Oral</td>\n",
       "      <td>97.2</td>\n",
       "      <td>Farenheit</td>\n",
       "    </tr>\n",
       "    <tr>\n",
       "      <th>...</th>\n",
       "      <td>...</td>\n",
       "      <td>...</td>\n",
       "      <td>...</td>\n",
       "      <td>...</td>\n",
       "      <td>...</td>\n",
       "    </tr>\n",
       "    <tr>\n",
       "      <th>1995</th>\n",
       "      <td>998</td>\n",
       "      <td>1985-05-14 00:14:54</td>\n",
       "      <td>Tympanic</td>\n",
       "      <td>95.5</td>\n",
       "      <td>Farenheit</td>\n",
       "    </tr>\n",
       "    <tr>\n",
       "      <th>1996</th>\n",
       "      <td>998</td>\n",
       "      <td>2036-03-15 06:59:01</td>\n",
       "      <td>Oral</td>\n",
       "      <td>97.7</td>\n",
       "      <td>Farenheit</td>\n",
       "    </tr>\n",
       "    <tr>\n",
       "      <th>1997</th>\n",
       "      <td>998</td>\n",
       "      <td>2074-03-17 21:21:09</td>\n",
       "      <td>Oral</td>\n",
       "      <td>98.1</td>\n",
       "      <td>Farenheit</td>\n",
       "    </tr>\n",
       "    <tr>\n",
       "      <th>1998</th>\n",
       "      <td>999</td>\n",
       "      <td>2017-02-03 01:23:52</td>\n",
       "      <td>Oral</td>\n",
       "      <td>97.4</td>\n",
       "      <td>Farenheit</td>\n",
       "    </tr>\n",
       "    <tr>\n",
       "      <th>1999</th>\n",
       "      <td>999</td>\n",
       "      <td>2039-01-21 02:31:01</td>\n",
       "      <td>Temporal</td>\n",
       "      <td>98.7</td>\n",
       "      <td>Farenheit</td>\n",
       "    </tr>\n",
       "  </tbody>\n",
       "</table>\n",
       "<p>2000 rows × 5 columns</p>\n",
       "</div>"
      ],
      "text/plain": [
       "      patient_id                 time temp_source  temp_value  temp_unit\n",
       "0              1  1984-06-18 17:58:02        Core        97.3  Farenheit\n",
       "1              2  1965-02-16 12:34:29        Oral        96.7  Farenheit\n",
       "2              2  1999-09-28 01:35:52    Tympanic        98.2  Farenheit\n",
       "3              2  2071-02-23 10:36:34    Temporal        96.5  Farenheit\n",
       "4              3  1988-05-10 01:38:51        Oral        97.2  Farenheit\n",
       "...          ...                  ...         ...         ...        ...\n",
       "1995         998  1985-05-14 00:14:54    Tympanic        95.5  Farenheit\n",
       "1996         998  2036-03-15 06:59:01        Oral        97.7  Farenheit\n",
       "1997         998  2074-03-17 21:21:09        Oral        98.1  Farenheit\n",
       "1998         999  2017-02-03 01:23:52        Oral        97.4  Farenheit\n",
       "1999         999  2039-01-21 02:31:01    Temporal        98.7  Farenheit\n",
       "\n",
       "[2000 rows x 5 columns]"
      ]
     },
     "execution_count": 14,
     "metadata": {},
     "output_type": "execute_result"
    }
   ],
   "source": [
    "df"
   ]
  },
  {
   "cell_type": "markdown",
   "id": "a14ef0b9",
   "metadata": {},
   "source": [
    "> **📌 Note:** These methods can also be combined. In general, pandas functions are executed sequentially. While this is a simple example, chains of powerful data transforms can be accomplished with relatively few lines of pandas code."
   ]
  },
  {
   "cell_type": "code",
   "execution_count": 15,
   "id": "e0804fcf",
   "metadata": {},
   "outputs": [
    {
     "data": {
      "text/html": [
       "<div>\n",
       "<style scoped>\n",
       "    .dataframe tbody tr th:only-of-type {\n",
       "        vertical-align: middle;\n",
       "    }\n",
       "\n",
       "    .dataframe tbody tr th {\n",
       "        vertical-align: top;\n",
       "    }\n",
       "\n",
       "    .dataframe thead th {\n",
       "        text-align: right;\n",
       "    }\n",
       "</style>\n",
       "<table border=\"1\" class=\"dataframe\">\n",
       "  <thead>\n",
       "    <tr style=\"text-align: right;\">\n",
       "      <th></th>\n",
       "      <th>time</th>\n",
       "      <th>temp_value</th>\n",
       "    </tr>\n",
       "  </thead>\n",
       "  <tbody>\n",
       "    <tr>\n",
       "      <th>0</th>\n",
       "      <td>1984-06-18 17:58:02</td>\n",
       "      <td>97.3</td>\n",
       "    </tr>\n",
       "    <tr>\n",
       "      <th>1</th>\n",
       "      <td>1965-02-16 12:34:29</td>\n",
       "      <td>96.7</td>\n",
       "    </tr>\n",
       "  </tbody>\n",
       "</table>\n",
       "</div>"
      ],
      "text/plain": [
       "                  time  temp_value\n",
       "0  1984-06-18 17:58:02        97.3\n",
       "1  1965-02-16 12:34:29        96.7"
      ]
     },
     "execution_count": 15,
     "metadata": {},
     "output_type": "execute_result"
    }
   ],
   "source": [
    "df[['time', 'temp_value']].head(2)"
   ]
  },
  {
   "cell_type": "markdown",
   "id": "afc5dec7",
   "metadata": {
    "id": "afc5dec7"
   },
   "source": [
    "# Creating new columns \n",
    "\n",
    "We can easily create new columns in an existing DataFrame. When we define an equation as below, equation will be applied to every **row** of the DataFrame. In this way, we can create new columns from different combinations of existing columns.\n",
    "\n",
    "Let's use an equation to convert Fahrenheit temperature to Celsius, and assign these values to a new column called `temp_celsius`."
   ]
  },
  {
   "cell_type": "code",
   "execution_count": 16,
   "id": "107af062",
   "metadata": {
    "colab": {
     "base_uri": "https://localhost:8080/",
     "height": 206
    },
    "id": "107af062",
    "outputId": "de3188a0-fc49-4c70-e8e0-1b6a9b193380"
   },
   "outputs": [
    {
     "data": {
      "text/html": [
       "<div>\n",
       "<style scoped>\n",
       "    .dataframe tbody tr th:only-of-type {\n",
       "        vertical-align: middle;\n",
       "    }\n",
       "\n",
       "    .dataframe tbody tr th {\n",
       "        vertical-align: top;\n",
       "    }\n",
       "\n",
       "    .dataframe thead th {\n",
       "        text-align: right;\n",
       "    }\n",
       "</style>\n",
       "<table border=\"1\" class=\"dataframe\">\n",
       "  <thead>\n",
       "    <tr style=\"text-align: right;\">\n",
       "      <th></th>\n",
       "      <th>patient_id</th>\n",
       "      <th>time</th>\n",
       "      <th>temp_source</th>\n",
       "      <th>temp_value</th>\n",
       "      <th>temp_unit</th>\n",
       "      <th>temp_celsius</th>\n",
       "    </tr>\n",
       "  </thead>\n",
       "  <tbody>\n",
       "    <tr>\n",
       "      <th>0</th>\n",
       "      <td>1</td>\n",
       "      <td>1984-06-18 17:58:02</td>\n",
       "      <td>Core</td>\n",
       "      <td>97.3</td>\n",
       "      <td>Farenheit</td>\n",
       "      <td>36.277778</td>\n",
       "    </tr>\n",
       "    <tr>\n",
       "      <th>1</th>\n",
       "      <td>2</td>\n",
       "      <td>1965-02-16 12:34:29</td>\n",
       "      <td>Oral</td>\n",
       "      <td>96.7</td>\n",
       "      <td>Farenheit</td>\n",
       "      <td>35.944444</td>\n",
       "    </tr>\n",
       "    <tr>\n",
       "      <th>2</th>\n",
       "      <td>2</td>\n",
       "      <td>1999-09-28 01:35:52</td>\n",
       "      <td>Tympanic</td>\n",
       "      <td>98.2</td>\n",
       "      <td>Farenheit</td>\n",
       "      <td>36.777778</td>\n",
       "    </tr>\n",
       "    <tr>\n",
       "      <th>3</th>\n",
       "      <td>2</td>\n",
       "      <td>2071-02-23 10:36:34</td>\n",
       "      <td>Temporal</td>\n",
       "      <td>96.5</td>\n",
       "      <td>Farenheit</td>\n",
       "      <td>35.833333</td>\n",
       "    </tr>\n",
       "    <tr>\n",
       "      <th>4</th>\n",
       "      <td>3</td>\n",
       "      <td>1988-05-10 01:38:51</td>\n",
       "      <td>Oral</td>\n",
       "      <td>97.2</td>\n",
       "      <td>Farenheit</td>\n",
       "      <td>36.222222</td>\n",
       "    </tr>\n",
       "  </tbody>\n",
       "</table>\n",
       "</div>"
      ],
      "text/plain": [
       "   patient_id                 time temp_source  temp_value  temp_unit  \\\n",
       "0           1  1984-06-18 17:58:02        Core        97.3  Farenheit   \n",
       "1           2  1965-02-16 12:34:29        Oral        96.7  Farenheit   \n",
       "2           2  1999-09-28 01:35:52    Tympanic        98.2  Farenheit   \n",
       "3           2  2071-02-23 10:36:34    Temporal        96.5  Farenheit   \n",
       "4           3  1988-05-10 01:38:51        Oral        97.2  Farenheit   \n",
       "\n",
       "   temp_celsius  \n",
       "0     36.277778  \n",
       "1     35.944444  \n",
       "2     36.777778  \n",
       "3     35.833333  \n",
       "4     36.222222  "
      ]
     },
     "execution_count": 16,
     "metadata": {},
     "output_type": "execute_result"
    }
   ],
   "source": [
    "df['temp_celsius'] = (df['temp_value'] - 32) * (5/9)\n",
    "df.head()"
   ]
  },
  {
   "cell_type": "markdown",
   "id": "3ebe98a4",
   "metadata": {
    "id": "3ebe98a4"
   },
   "source": [
    "# Deleting columns \n",
    "\n",
    "We can also *delete* (also known as **drop**) columns.\n",
    "\n",
    "Let's remove the `temp_celsius` column that we previously created."
   ]
  },
  {
   "cell_type": "code",
   "execution_count": 17,
   "id": "48b57eaa",
   "metadata": {
    "colab": {
     "base_uri": "https://localhost:8080/",
     "height": 206
    },
    "id": "48b57eaa",
    "outputId": "e4ff3c3c-e3a6-4499-c406-ad3e4afad251"
   },
   "outputs": [
    {
     "data": {
      "text/html": [
       "<div>\n",
       "<style scoped>\n",
       "    .dataframe tbody tr th:only-of-type {\n",
       "        vertical-align: middle;\n",
       "    }\n",
       "\n",
       "    .dataframe tbody tr th {\n",
       "        vertical-align: top;\n",
       "    }\n",
       "\n",
       "    .dataframe thead th {\n",
       "        text-align: right;\n",
       "    }\n",
       "</style>\n",
       "<table border=\"1\" class=\"dataframe\">\n",
       "  <thead>\n",
       "    <tr style=\"text-align: right;\">\n",
       "      <th></th>\n",
       "      <th>patient_id</th>\n",
       "      <th>time</th>\n",
       "      <th>temp_source</th>\n",
       "      <th>temp_value</th>\n",
       "      <th>temp_unit</th>\n",
       "      <th>temp_celsius</th>\n",
       "    </tr>\n",
       "  </thead>\n",
       "  <tbody>\n",
       "    <tr>\n",
       "      <th>0</th>\n",
       "      <td>1</td>\n",
       "      <td>1984-06-18 17:58:02</td>\n",
       "      <td>Core</td>\n",
       "      <td>97.3</td>\n",
       "      <td>Farenheit</td>\n",
       "      <td>36.277778</td>\n",
       "    </tr>\n",
       "    <tr>\n",
       "      <th>1</th>\n",
       "      <td>2</td>\n",
       "      <td>1965-02-16 12:34:29</td>\n",
       "      <td>Oral</td>\n",
       "      <td>96.7</td>\n",
       "      <td>Farenheit</td>\n",
       "      <td>35.944444</td>\n",
       "    </tr>\n",
       "    <tr>\n",
       "      <th>2</th>\n",
       "      <td>2</td>\n",
       "      <td>1999-09-28 01:35:52</td>\n",
       "      <td>Tympanic</td>\n",
       "      <td>98.2</td>\n",
       "      <td>Farenheit</td>\n",
       "      <td>36.777778</td>\n",
       "    </tr>\n",
       "    <tr>\n",
       "      <th>3</th>\n",
       "      <td>2</td>\n",
       "      <td>2071-02-23 10:36:34</td>\n",
       "      <td>Temporal</td>\n",
       "      <td>96.5</td>\n",
       "      <td>Farenheit</td>\n",
       "      <td>35.833333</td>\n",
       "    </tr>\n",
       "    <tr>\n",
       "      <th>4</th>\n",
       "      <td>3</td>\n",
       "      <td>1988-05-10 01:38:51</td>\n",
       "      <td>Oral</td>\n",
       "      <td>97.2</td>\n",
       "      <td>Farenheit</td>\n",
       "      <td>36.222222</td>\n",
       "    </tr>\n",
       "  </tbody>\n",
       "</table>\n",
       "</div>"
      ],
      "text/plain": [
       "   patient_id                 time temp_source  temp_value  temp_unit  \\\n",
       "0           1  1984-06-18 17:58:02        Core        97.3  Farenheit   \n",
       "1           2  1965-02-16 12:34:29        Oral        96.7  Farenheit   \n",
       "2           2  1999-09-28 01:35:52    Tympanic        98.2  Farenheit   \n",
       "3           2  2071-02-23 10:36:34    Temporal        96.5  Farenheit   \n",
       "4           3  1988-05-10 01:38:51        Oral        97.2  Farenheit   \n",
       "\n",
       "   temp_celsius  \n",
       "0     36.277778  \n",
       "1     35.944444  \n",
       "2     36.777778  \n",
       "3     35.833333  \n",
       "4     36.222222  "
      ]
     },
     "execution_count": 17,
     "metadata": {},
     "output_type": "execute_result"
    }
   ],
   "source": [
    "df.drop(columns=['temp_celsius']) # Will this remove the column?\n",
    "df.head()"
   ]
  },
  {
   "cell_type": "markdown",
   "id": "6af31be9",
   "metadata": {
    "id": "6af31be9"
   },
   "source": [
    "### **What happened? `temp_celsius` is still there!**\n",
    "\n",
    "Unless you specify `inplace=True` or assign the dataframe back to itself (or a different variable name), **the `drop()` function does not change the original DataFrame!**\n",
    "\n",
    "Below is one way to permanently remove a column from a DataFrame by assigning the result to a new DataFrame variable `df2`."
   ]
  },
  {
   "cell_type": "code",
   "execution_count": 18,
   "id": "840718b2",
   "metadata": {},
   "outputs": [
    {
     "data": {
      "text/html": [
       "<div>\n",
       "<style scoped>\n",
       "    .dataframe tbody tr th:only-of-type {\n",
       "        vertical-align: middle;\n",
       "    }\n",
       "\n",
       "    .dataframe tbody tr th {\n",
       "        vertical-align: top;\n",
       "    }\n",
       "\n",
       "    .dataframe thead th {\n",
       "        text-align: right;\n",
       "    }\n",
       "</style>\n",
       "<table border=\"1\" class=\"dataframe\">\n",
       "  <thead>\n",
       "    <tr style=\"text-align: right;\">\n",
       "      <th></th>\n",
       "      <th>patient_id</th>\n",
       "      <th>time</th>\n",
       "      <th>temp_source</th>\n",
       "      <th>temp_value</th>\n",
       "      <th>temp_unit</th>\n",
       "    </tr>\n",
       "  </thead>\n",
       "  <tbody>\n",
       "    <tr>\n",
       "      <th>0</th>\n",
       "      <td>1</td>\n",
       "      <td>1984-06-18 17:58:02</td>\n",
       "      <td>Core</td>\n",
       "      <td>97.3</td>\n",
       "      <td>Farenheit</td>\n",
       "    </tr>\n",
       "    <tr>\n",
       "      <th>1</th>\n",
       "      <td>2</td>\n",
       "      <td>1965-02-16 12:34:29</td>\n",
       "      <td>Oral</td>\n",
       "      <td>96.7</td>\n",
       "      <td>Farenheit</td>\n",
       "    </tr>\n",
       "    <tr>\n",
       "      <th>2</th>\n",
       "      <td>2</td>\n",
       "      <td>1999-09-28 01:35:52</td>\n",
       "      <td>Tympanic</td>\n",
       "      <td>98.2</td>\n",
       "      <td>Farenheit</td>\n",
       "    </tr>\n",
       "    <tr>\n",
       "      <th>3</th>\n",
       "      <td>2</td>\n",
       "      <td>2071-02-23 10:36:34</td>\n",
       "      <td>Temporal</td>\n",
       "      <td>96.5</td>\n",
       "      <td>Farenheit</td>\n",
       "    </tr>\n",
       "    <tr>\n",
       "      <th>4</th>\n",
       "      <td>3</td>\n",
       "      <td>1988-05-10 01:38:51</td>\n",
       "      <td>Oral</td>\n",
       "      <td>97.2</td>\n",
       "      <td>Farenheit</td>\n",
       "    </tr>\n",
       "  </tbody>\n",
       "</table>\n",
       "</div>"
      ],
      "text/plain": [
       "   patient_id                 time temp_source  temp_value  temp_unit\n",
       "0           1  1984-06-18 17:58:02        Core        97.3  Farenheit\n",
       "1           2  1965-02-16 12:34:29        Oral        96.7  Farenheit\n",
       "2           2  1999-09-28 01:35:52    Tympanic        98.2  Farenheit\n",
       "3           2  2071-02-23 10:36:34    Temporal        96.5  Farenheit\n",
       "4           3  1988-05-10 01:38:51        Oral        97.2  Farenheit"
      ]
     },
     "execution_count": 18,
     "metadata": {},
     "output_type": "execute_result"
    }
   ],
   "source": [
    "# Now, after dropping the column, we are assigning the resulting DataFrame to a new variable.\n",
    "# This will persist the change.\n",
    "df2 = df.drop(columns=['temp_celsius']) \n",
    "df2.head()"
   ]
  },
  {
   "cell_type": "markdown",
   "id": "07188598",
   "metadata": {},
   "source": [
    "> **✏️ Exercise:** Create a new DataFrame called `df3`, that contains everything in the `df` DataFrame **except** the `temp_source` column."
   ]
  },
  {
   "cell_type": "code",
   "execution_count": 19,
   "id": "79646cdc",
   "metadata": {},
   "outputs": [],
   "source": [
    "# Code it!\n",
    "df3 = df[['patient_id', 'time', 'temp_value', 'temp_unit']]"
   ]
  },
  {
   "cell_type": "markdown",
   "id": "8a113e56",
   "metadata": {},
   "source": [
    "# Descriptive Statistics\n",
    "\n",
    "> Before diving into an AI project, it is critical to become familiar with the data you will be modeling!  Pandas has a large collection of optimized methods designed to analyze your data.\n",
    "\n",
    "A preliminary data discovery and exploration phase can help you better understand the data you will be modeling, and has many downstream advantages:\n",
    "* You may identify potential problems with the dataset (e.g., missing values, outliers, incomplete columns, irrelevant information)\n",
    "* Results of data exploration may help you decide which preproessing or modeling approach to take.\n",
    "* A better understanding of your population will help you interpret your future results.\n",
    "\n",
    "## Remember Python functions?\n",
    "Pandas offers many **functions** that take as **input** a set of values (example: all of the values from the `temp_celsius` column), and **return** a calculated **output** value based on which function was used.\n",
    "\n",
    "Here are a few examples (most are self-explanatory):\n",
    "* `sum` (sum the input values)\n",
    "* `count` (count the number of input values), `value_counts` (count the number of each unique value)\n",
    "* `min` (return the minimum value), `max` (return the maximum value)\n",
    "* `mean` (return the mean value), `median` (median), `mode` (mode)\n",
    "* `var` (variance), `std` (standard deviation)\n",
    "* `quantile` (compute quantiles)\n",
    "\n",
    "Let's take a look at a few examples using our clinical dataset.\n",
    "\n",
    "First, let's compute the **mean** patient temperature, measured in Fahrenheit (i.e., the `temp_value` of our `df` DataFrame)."
   ]
  },
  {
   "cell_type": "code",
   "execution_count": 20,
   "id": "e45b5034",
   "metadata": {},
   "outputs": [
    {
     "data": {
      "text/plain": [
       "97.44479999999999"
      ]
     },
     "execution_count": 20,
     "metadata": {},
     "output_type": "execute_result"
    }
   ],
   "source": [
    "# Compute the mean temperature (Fahrenheit)\n",
    "df['temp_value'].mean()"
   ]
  },
  {
   "cell_type": "markdown",
   "id": "e515f2c7",
   "metadata": {},
   "source": [
    "It's that easy! Let's compute a few more descriptive statistics:"
   ]
  },
  {
   "cell_type": "markdown",
   "id": "fb2ae2e7",
   "metadata": {},
   "source": [
    "> **✏️ Exercise:** Compute the **minimum** Fahrenheit temperature (`temp_value`)."
   ]
  },
  {
   "cell_type": "code",
   "execution_count": 21,
   "id": "734a99a5",
   "metadata": {},
   "outputs": [],
   "source": [
    "# Code it!\n"
   ]
  },
  {
   "cell_type": "markdown",
   "id": "a5b75d65",
   "metadata": {},
   "source": [
    "> **✏️ Exercise:** Compute the **maximum** Fahrenheit temperature (`temp_value`)."
   ]
  },
  {
   "cell_type": "code",
   "execution_count": 22,
   "id": "850dbf88",
   "metadata": {},
   "outputs": [],
   "source": [
    "# Code it!\n"
   ]
  },
  {
   "cell_type": "markdown",
   "id": "01ccf6f1",
   "metadata": {},
   "source": [
    "> **✏️ Exercise:** Count the number of occurrences of **each unique** temperature acquisition method (excluding missing values). **Hint #1:** The `temp_source` column contains the temperature acquisition method. **Hint #2:** The `value_counts()` function can be used to calculate counts of each unique value (excluding missing values)."
   ]
  },
  {
   "cell_type": "code",
   "execution_count": 23,
   "id": "a0f19466",
   "metadata": {},
   "outputs": [],
   "source": [
    "# Code it!\n"
   ]
  },
  {
   "cell_type": "markdown",
   "id": "f8534aca",
   "metadata": {},
   "source": [
    "Finally, the `describe()` function can be used on an entire DataFrame to display several common statistics (by default computed for every column), all at once.\n",
    "\n",
    "> **📌 Note:** In general, it's important to be aware of the values and data types contained in each column, as sometimes the statistics will not make sense. For example, `patient` is a randomized patient identifier, so numerical calculations with these values will be meaningless."
   ]
  },
  {
   "cell_type": "code",
   "execution_count": 24,
   "id": "2383c2f6",
   "metadata": {},
   "outputs": [
    {
     "data": {
      "text/html": [
       "<div>\n",
       "<style scoped>\n",
       "    .dataframe tbody tr th:only-of-type {\n",
       "        vertical-align: middle;\n",
       "    }\n",
       "\n",
       "    .dataframe tbody tr th {\n",
       "        vertical-align: top;\n",
       "    }\n",
       "\n",
       "    .dataframe thead th {\n",
       "        text-align: right;\n",
       "    }\n",
       "</style>\n",
       "<table border=\"1\" class=\"dataframe\">\n",
       "  <thead>\n",
       "    <tr style=\"text-align: right;\">\n",
       "      <th></th>\n",
       "      <th>patient_id</th>\n",
       "      <th>temp_value</th>\n",
       "      <th>temp_celsius</th>\n",
       "    </tr>\n",
       "  </thead>\n",
       "  <tbody>\n",
       "    <tr>\n",
       "      <th>count</th>\n",
       "      <td>2000.000000</td>\n",
       "      <td>2000.000000</td>\n",
       "      <td>2000.000000</td>\n",
       "    </tr>\n",
       "    <tr>\n",
       "      <th>mean</th>\n",
       "      <td>499.017000</td>\n",
       "      <td>97.444800</td>\n",
       "      <td>36.358222</td>\n",
       "    </tr>\n",
       "    <tr>\n",
       "      <th>std</th>\n",
       "      <td>289.878512</td>\n",
       "      <td>1.376775</td>\n",
       "      <td>0.764875</td>\n",
       "    </tr>\n",
       "    <tr>\n",
       "      <th>min</th>\n",
       "      <td>1.000000</td>\n",
       "      <td>89.500000</td>\n",
       "      <td>31.944444</td>\n",
       "    </tr>\n",
       "    <tr>\n",
       "      <th>25%</th>\n",
       "      <td>250.000000</td>\n",
       "      <td>96.600000</td>\n",
       "      <td>35.888889</td>\n",
       "    </tr>\n",
       "    <tr>\n",
       "      <th>50%</th>\n",
       "      <td>510.500000</td>\n",
       "      <td>97.400000</td>\n",
       "      <td>36.333333</td>\n",
       "    </tr>\n",
       "    <tr>\n",
       "      <th>75%</th>\n",
       "      <td>747.250000</td>\n",
       "      <td>98.300000</td>\n",
       "      <td>36.833333</td>\n",
       "    </tr>\n",
       "    <tr>\n",
       "      <th>max</th>\n",
       "      <td>999.000000</td>\n",
       "      <td>103.300000</td>\n",
       "      <td>39.611111</td>\n",
       "    </tr>\n",
       "  </tbody>\n",
       "</table>\n",
       "</div>"
      ],
      "text/plain": [
       "        patient_id   temp_value  temp_celsius\n",
       "count  2000.000000  2000.000000   2000.000000\n",
       "mean    499.017000    97.444800     36.358222\n",
       "std     289.878512     1.376775      0.764875\n",
       "min       1.000000    89.500000     31.944444\n",
       "25%     250.000000    96.600000     35.888889\n",
       "50%     510.500000    97.400000     36.333333\n",
       "75%     747.250000    98.300000     36.833333\n",
       "max     999.000000   103.300000     39.611111"
      ]
     },
     "execution_count": 24,
     "metadata": {},
     "output_type": "execute_result"
    }
   ],
   "source": [
    "# (Almost) everything, (almost) everywhere, all at once\n",
    "# Note: this code will only compute statistics for columns with numerical data.\n",
    "df.describe()"
   ]
  },
  {
   "cell_type": "markdown",
   "id": "e8e532f0",
   "metadata": {},
   "source": [
    "# Filtering data\n",
    "Pandas makes it easy to select, analyze, and process subsets of your data based on some criteria `C`. This is accomplished with easily understandable syntax: `df[C]` will return a subset of DataFrame `df` that **matches** the criteria `C` listed inside brackets `[]`."
   ]
  },
  {
   "cell_type": "markdown",
   "id": "3d90eb91",
   "metadata": {},
   "source": [
    "### Comparing values\n",
    "In pandas, we can create filtering criteria using familiar mathematical operators to compare values:\n",
    "* `>`: greater than\n",
    "* `<`: less than\n",
    "* `>=`: greater than or equal to\n",
    "* `<=`: less than or equal to\n",
    "* `!=`: is not equal to\n",
    "* `==`: is equal to a single value\n",
    "* **🏆 Bonus:** `.isin(L)`: is equal to any value contained in the list `L`."
   ]
  },
  {
   "cell_type": "markdown",
   "id": "17853995",
   "metadata": {},
   "source": [
    "Let's display all recorded measurements where the patient's temperature was **greater** than 102$^{\\circ} F$.\n",
    "* In this example, the criteria `C` is `df['temp_value'] > 102`.\n",
    "* Recall the Pandas filtering syntax: `df[C]`.\n",
    "* So, this is what we want: `df[df['temp_value'] > 102]`."
   ]
  },
  {
   "cell_type": "code",
   "execution_count": 25,
   "id": "effbed44",
   "metadata": {},
   "outputs": [
    {
     "data": {
      "text/html": [
       "<div>\n",
       "<style scoped>\n",
       "    .dataframe tbody tr th:only-of-type {\n",
       "        vertical-align: middle;\n",
       "    }\n",
       "\n",
       "    .dataframe tbody tr th {\n",
       "        vertical-align: top;\n",
       "    }\n",
       "\n",
       "    .dataframe thead th {\n",
       "        text-align: right;\n",
       "    }\n",
       "</style>\n",
       "<table border=\"1\" class=\"dataframe\">\n",
       "  <thead>\n",
       "    <tr style=\"text-align: right;\">\n",
       "      <th></th>\n",
       "      <th>patient_id</th>\n",
       "      <th>time</th>\n",
       "      <th>temp_source</th>\n",
       "      <th>temp_value</th>\n",
       "      <th>temp_unit</th>\n",
       "      <th>temp_celsius</th>\n",
       "    </tr>\n",
       "  </thead>\n",
       "  <tbody>\n",
       "    <tr>\n",
       "      <th>728</th>\n",
       "      <td>361</td>\n",
       "      <td>1989-09-09 04:01:52</td>\n",
       "      <td>Oral</td>\n",
       "      <td>102.7</td>\n",
       "      <td>Farenheit</td>\n",
       "      <td>39.277778</td>\n",
       "    </tr>\n",
       "    <tr>\n",
       "      <th>735</th>\n",
       "      <td>365</td>\n",
       "      <td>1988-08-03 02:09:43</td>\n",
       "      <td>Temporal</td>\n",
       "      <td>103.3</td>\n",
       "      <td>Farenheit</td>\n",
       "      <td>39.611111</td>\n",
       "    </tr>\n",
       "    <tr>\n",
       "      <th>848</th>\n",
       "      <td>431</td>\n",
       "      <td>2028-01-07 18:34:20</td>\n",
       "      <td>Oral</td>\n",
       "      <td>102.2</td>\n",
       "      <td>Farenheit</td>\n",
       "      <td>39.000000</td>\n",
       "    </tr>\n",
       "    <tr>\n",
       "      <th>1154</th>\n",
       "      <td>586</td>\n",
       "      <td>1961-07-19 05:24:34</td>\n",
       "      <td>Oral</td>\n",
       "      <td>102.6</td>\n",
       "      <td>Farenheit</td>\n",
       "      <td>39.222222</td>\n",
       "    </tr>\n",
       "    <tr>\n",
       "      <th>1176</th>\n",
       "      <td>593</td>\n",
       "      <td>2008-09-04 19:38:22</td>\n",
       "      <td>Tympanic</td>\n",
       "      <td>103.1</td>\n",
       "      <td>Farenheit</td>\n",
       "      <td>39.500000</td>\n",
       "    </tr>\n",
       "  </tbody>\n",
       "</table>\n",
       "</div>"
      ],
      "text/plain": [
       "      patient_id                 time temp_source  temp_value  temp_unit  \\\n",
       "728          361  1989-09-09 04:01:52        Oral       102.7  Farenheit   \n",
       "735          365  1988-08-03 02:09:43    Temporal       103.3  Farenheit   \n",
       "848          431  2028-01-07 18:34:20        Oral       102.2  Farenheit   \n",
       "1154         586  1961-07-19 05:24:34        Oral       102.6  Farenheit   \n",
       "1176         593  2008-09-04 19:38:22    Tympanic       103.1  Farenheit   \n",
       "\n",
       "      temp_celsius  \n",
       "728      39.277778  \n",
       "735      39.611111  \n",
       "848      39.000000  \n",
       "1154     39.222222  \n",
       "1176     39.500000  "
      ]
     },
     "execution_count": 25,
     "metadata": {},
     "output_type": "execute_result"
    }
   ],
   "source": [
    "# Select rows where Fahrenheit temperature is greater than 102 degrees.\n",
    "df[df['temp_value'] > 102]"
   ]
  },
  {
   "cell_type": "markdown",
   "id": "4dcdd276",
   "metadata": {},
   "source": [
    "> **✏️ Exercise:** Display readings where temperature is less than 94$^{\\circ} F$."
   ]
  },
  {
   "cell_type": "code",
   "execution_count": 26,
   "id": "45465e39",
   "metadata": {},
   "outputs": [],
   "source": [
    "# Code it!\n"
   ]
  },
  {
   "cell_type": "markdown",
   "id": "69539eb3",
   "metadata": {},
   "source": [
    "Now, let's write code to display the first `5` measurements where the temperature acquisition method (`temp_source`) is `Core`.\n",
    "\n",
    "* Recall that the symbol `==` will check for equality (we want the source to be equal to the single value `Core`).\n",
    "* In this example, the criteria `C` is `df['temp_value'] == 'Core'`.\n",
    "* Given the Pandas filtering syntax: `df[C]`, this is what we want: `df[df['temp_source'] == 'Core']`."
   ]
  },
  {
   "cell_type": "code",
   "execution_count": 27,
   "id": "a17076c2",
   "metadata": {},
   "outputs": [
    {
     "data": {
      "text/html": [
       "<div>\n",
       "<style scoped>\n",
       "    .dataframe tbody tr th:only-of-type {\n",
       "        vertical-align: middle;\n",
       "    }\n",
       "\n",
       "    .dataframe tbody tr th {\n",
       "        vertical-align: top;\n",
       "    }\n",
       "\n",
       "    .dataframe thead th {\n",
       "        text-align: right;\n",
       "    }\n",
       "</style>\n",
       "<table border=\"1\" class=\"dataframe\">\n",
       "  <thead>\n",
       "    <tr style=\"text-align: right;\">\n",
       "      <th></th>\n",
       "      <th>patient_id</th>\n",
       "      <th>time</th>\n",
       "      <th>temp_source</th>\n",
       "      <th>temp_value</th>\n",
       "      <th>temp_unit</th>\n",
       "      <th>temp_celsius</th>\n",
       "    </tr>\n",
       "  </thead>\n",
       "  <tbody>\n",
       "    <tr>\n",
       "      <th>0</th>\n",
       "      <td>1</td>\n",
       "      <td>1984-06-18 17:58:02</td>\n",
       "      <td>Core</td>\n",
       "      <td>97.3</td>\n",
       "      <td>Farenheit</td>\n",
       "      <td>36.277778</td>\n",
       "    </tr>\n",
       "    <tr>\n",
       "      <th>8</th>\n",
       "      <td>3</td>\n",
       "      <td>2086-04-26 13:47:46</td>\n",
       "      <td>Core</td>\n",
       "      <td>94.8</td>\n",
       "      <td>Farenheit</td>\n",
       "      <td>34.888889</td>\n",
       "    </tr>\n",
       "    <tr>\n",
       "      <th>11</th>\n",
       "      <td>5</td>\n",
       "      <td>1932-01-22 15:41:18</td>\n",
       "      <td>Core</td>\n",
       "      <td>99.0</td>\n",
       "      <td>Farenheit</td>\n",
       "      <td>37.222222</td>\n",
       "    </tr>\n",
       "    <tr>\n",
       "      <th>18</th>\n",
       "      <td>9</td>\n",
       "      <td>1993-07-29 22:59:22</td>\n",
       "      <td>Core</td>\n",
       "      <td>97.3</td>\n",
       "      <td>Farenheit</td>\n",
       "      <td>36.277778</td>\n",
       "    </tr>\n",
       "    <tr>\n",
       "      <th>25</th>\n",
       "      <td>12</td>\n",
       "      <td>1972-10-22 12:13:21</td>\n",
       "      <td>Core</td>\n",
       "      <td>94.8</td>\n",
       "      <td>Farenheit</td>\n",
       "      <td>34.888889</td>\n",
       "    </tr>\n",
       "  </tbody>\n",
       "</table>\n",
       "</div>"
      ],
      "text/plain": [
       "    patient_id                 time temp_source  temp_value  temp_unit  \\\n",
       "0            1  1984-06-18 17:58:02        Core        97.3  Farenheit   \n",
       "8            3  2086-04-26 13:47:46        Core        94.8  Farenheit   \n",
       "11           5  1932-01-22 15:41:18        Core        99.0  Farenheit   \n",
       "18           9  1993-07-29 22:59:22        Core        97.3  Farenheit   \n",
       "25          12  1972-10-22 12:13:21        Core        94.8  Farenheit   \n",
       "\n",
       "    temp_celsius  \n",
       "0      36.277778  \n",
       "8      34.888889  \n",
       "11     37.222222  \n",
       "18     36.277778  \n",
       "25     34.888889  "
      ]
     },
     "execution_count": 27,
     "metadata": {},
     "output_type": "execute_result"
    }
   ],
   "source": [
    "# Show the first 5 core temperature measurements.\n",
    "df[df['temp_source'] == 'Core'].head()"
   ]
  },
  {
   "cell_type": "markdown",
   "id": "cceae2a5",
   "metadata": {},
   "source": [
    "> **✏️ Exercise:** Display the first `5` readings where the temperature acquisition method (`temp_source`) is `Tympanic`."
   ]
  },
  {
   "cell_type": "code",
   "execution_count": 28,
   "id": "d71ee165",
   "metadata": {},
   "outputs": [],
   "source": [
    "# Code it!\n"
   ]
  },
  {
   "cell_type": "markdown",
   "id": "c7bc6f15",
   "metadata": {},
   "source": [
    "# Combining multiple filtering criteria\n",
    "\n",
    "Multiple criteria can be combined using either the `&` or `|` symbols:\n",
    "* C1 `&` C2: This will select rows that match **both** criteria C1 **and** C2.\n",
    "* C1 `&` C2: This will select rows that match **either** criteria C1 **or** C2.\n",
    "\n",
    "Let's see how we can display all measurements where the patient's temperature was between 99$^{\\circ} F$ and 100$^{\\circ} F$.\n",
    "\n",
    "In this example, we have two criteria:\n",
    "* C1: `df['temp_value'] >= 99`\n",
    "* C2: `df['temp_value'] <= 100`"
   ]
  },
  {
   "cell_type": "code",
   "execution_count": 29,
   "id": "f9d2d237",
   "metadata": {},
   "outputs": [
    {
     "data": {
      "text/html": [
       "<div>\n",
       "<style scoped>\n",
       "    .dataframe tbody tr th:only-of-type {\n",
       "        vertical-align: middle;\n",
       "    }\n",
       "\n",
       "    .dataframe tbody tr th {\n",
       "        vertical-align: top;\n",
       "    }\n",
       "\n",
       "    .dataframe thead th {\n",
       "        text-align: right;\n",
       "    }\n",
       "</style>\n",
       "<table border=\"1\" class=\"dataframe\">\n",
       "  <thead>\n",
       "    <tr style=\"text-align: right;\">\n",
       "      <th></th>\n",
       "      <th>patient_id</th>\n",
       "      <th>time</th>\n",
       "      <th>temp_source</th>\n",
       "      <th>temp_value</th>\n",
       "      <th>temp_unit</th>\n",
       "      <th>temp_celsius</th>\n",
       "    </tr>\n",
       "  </thead>\n",
       "  <tbody>\n",
       "    <tr>\n",
       "      <th>11</th>\n",
       "      <td>5</td>\n",
       "      <td>1932-01-22 15:41:18</td>\n",
       "      <td>Core</td>\n",
       "      <td>99.0</td>\n",
       "      <td>Farenheit</td>\n",
       "      <td>37.222222</td>\n",
       "    </tr>\n",
       "    <tr>\n",
       "      <th>38</th>\n",
       "      <td>19</td>\n",
       "      <td>2059-04-21 09:56:06</td>\n",
       "      <td>Core</td>\n",
       "      <td>99.0</td>\n",
       "      <td>Farenheit</td>\n",
       "      <td>37.222222</td>\n",
       "    </tr>\n",
       "    <tr>\n",
       "      <th>63</th>\n",
       "      <td>27</td>\n",
       "      <td>1996-12-11 22:18:43</td>\n",
       "      <td>Oral</td>\n",
       "      <td>99.9</td>\n",
       "      <td>Farenheit</td>\n",
       "      <td>37.722222</td>\n",
       "    </tr>\n",
       "    <tr>\n",
       "      <th>85</th>\n",
       "      <td>36</td>\n",
       "      <td>2004-10-13 23:54:59</td>\n",
       "      <td>Core</td>\n",
       "      <td>99.7</td>\n",
       "      <td>Farenheit</td>\n",
       "      <td>37.611111</td>\n",
       "    </tr>\n",
       "    <tr>\n",
       "      <th>89</th>\n",
       "      <td>37</td>\n",
       "      <td>2004-02-05 05:18:02</td>\n",
       "      <td>Core</td>\n",
       "      <td>99.4</td>\n",
       "      <td>Farenheit</td>\n",
       "      <td>37.444444</td>\n",
       "    </tr>\n",
       "    <tr>\n",
       "      <th>...</th>\n",
       "      <td>...</td>\n",
       "      <td>...</td>\n",
       "      <td>...</td>\n",
       "      <td>...</td>\n",
       "      <td>...</td>\n",
       "      <td>...</td>\n",
       "    </tr>\n",
       "    <tr>\n",
       "      <th>1938</th>\n",
       "      <td>965</td>\n",
       "      <td>2068-03-14 16:38:39</td>\n",
       "      <td>Oral</td>\n",
       "      <td>99.7</td>\n",
       "      <td>Farenheit</td>\n",
       "      <td>37.611111</td>\n",
       "    </tr>\n",
       "    <tr>\n",
       "      <th>1960</th>\n",
       "      <td>977</td>\n",
       "      <td>2014-07-10 02:40:05</td>\n",
       "      <td>PA catheter probe</td>\n",
       "      <td>99.1</td>\n",
       "      <td>Farenheit</td>\n",
       "      <td>37.277778</td>\n",
       "    </tr>\n",
       "    <tr>\n",
       "      <th>1968</th>\n",
       "      <td>984</td>\n",
       "      <td>2037-06-10 05:39:30</td>\n",
       "      <td>Temporal</td>\n",
       "      <td>100.0</td>\n",
       "      <td>Farenheit</td>\n",
       "      <td>37.777778</td>\n",
       "    </tr>\n",
       "    <tr>\n",
       "      <th>1973</th>\n",
       "      <td>986</td>\n",
       "      <td>1972-08-22 21:08:46</td>\n",
       "      <td>Tympanic</td>\n",
       "      <td>99.0</td>\n",
       "      <td>Farenheit</td>\n",
       "      <td>37.222222</td>\n",
       "    </tr>\n",
       "    <tr>\n",
       "      <th>1984</th>\n",
       "      <td>992</td>\n",
       "      <td>1956-07-10 11:55:21</td>\n",
       "      <td>Temporal</td>\n",
       "      <td>99.9</td>\n",
       "      <td>Farenheit</td>\n",
       "      <td>37.722222</td>\n",
       "    </tr>\n",
       "  </tbody>\n",
       "</table>\n",
       "<p>150 rows × 6 columns</p>\n",
       "</div>"
      ],
      "text/plain": [
       "      patient_id                 time        temp_source  temp_value  \\\n",
       "11             5  1932-01-22 15:41:18               Core        99.0   \n",
       "38            19  2059-04-21 09:56:06               Core        99.0   \n",
       "63            27  1996-12-11 22:18:43               Oral        99.9   \n",
       "85            36  2004-10-13 23:54:59               Core        99.7   \n",
       "89            37  2004-02-05 05:18:02               Core        99.4   \n",
       "...          ...                  ...                ...         ...   \n",
       "1938         965  2068-03-14 16:38:39               Oral        99.7   \n",
       "1960         977  2014-07-10 02:40:05  PA catheter probe        99.1   \n",
       "1968         984  2037-06-10 05:39:30           Temporal       100.0   \n",
       "1973         986  1972-08-22 21:08:46           Tympanic        99.0   \n",
       "1984         992  1956-07-10 11:55:21           Temporal        99.9   \n",
       "\n",
       "      temp_unit  temp_celsius  \n",
       "11    Farenheit     37.222222  \n",
       "38    Farenheit     37.222222  \n",
       "63    Farenheit     37.722222  \n",
       "85    Farenheit     37.611111  \n",
       "89    Farenheit     37.444444  \n",
       "...         ...           ...  \n",
       "1938  Farenheit     37.611111  \n",
       "1960  Farenheit     37.277778  \n",
       "1968  Farenheit     37.777778  \n",
       "1973  Farenheit     37.222222  \n",
       "1984  Farenheit     37.722222  \n",
       "\n",
       "[150 rows x 6 columns]"
      ]
     },
     "execution_count": 29,
     "metadata": {},
     "output_type": "execute_result"
    }
   ],
   "source": [
    "# Select rows where the Fahrenheit temperature is between 99 and 100 degrees.\n",
    "df[(df['temp_value'] >= 99) & (df['temp_value'] <= 100)]"
   ]
  },
  {
   "cell_type": "markdown",
   "id": "668e228a",
   "metadata": {},
   "source": [
    "> **✏️ Exercise:** Display all `Core` temperatures that are greater than `100`$^{\\circ} F$. **Hint:** we have 2 criteria."
   ]
  },
  {
   "cell_type": "code",
   "execution_count": 30,
   "id": "9aedbbfd",
   "metadata": {},
   "outputs": [],
   "source": [
    "# Code it!\n"
   ]
  },
  {
   "cell_type": "markdown",
   "id": "0e7a5eb1",
   "metadata": {},
   "source": [
    "# Analyzing filtered data\n",
    "We can also apply the previous methods for computing descriptive statistics on a filtered data subset. Let's take a look at the distribution and other key statistics of all `Core` temperature measurements that were greater than `100`$^{\\circ} F$."
   ]
  },
  {
   "cell_type": "code",
   "execution_count": 31,
   "id": "fb9a1376",
   "metadata": {},
   "outputs": [
    {
     "data": {
      "text/html": [
       "<div>\n",
       "<style scoped>\n",
       "    .dataframe tbody tr th:only-of-type {\n",
       "        vertical-align: middle;\n",
       "    }\n",
       "\n",
       "    .dataframe tbody tr th {\n",
       "        vertical-align: top;\n",
       "    }\n",
       "\n",
       "    .dataframe thead th {\n",
       "        text-align: right;\n",
       "    }\n",
       "</style>\n",
       "<table border=\"1\" class=\"dataframe\">\n",
       "  <thead>\n",
       "    <tr style=\"text-align: right;\">\n",
       "      <th></th>\n",
       "      <th>patient_id</th>\n",
       "      <th>temp_value</th>\n",
       "      <th>temp_celsius</th>\n",
       "    </tr>\n",
       "  </thead>\n",
       "  <tbody>\n",
       "    <tr>\n",
       "      <th>count</th>\n",
       "      <td>9.000000</td>\n",
       "      <td>9.000000</td>\n",
       "      <td>9.000000</td>\n",
       "    </tr>\n",
       "    <tr>\n",
       "      <th>mean</th>\n",
       "      <td>349.333333</td>\n",
       "      <td>100.933333</td>\n",
       "      <td>38.296296</td>\n",
       "    </tr>\n",
       "    <tr>\n",
       "      <th>std</th>\n",
       "      <td>319.711198</td>\n",
       "      <td>0.561249</td>\n",
       "      <td>0.311805</td>\n",
       "    </tr>\n",
       "    <tr>\n",
       "      <th>min</th>\n",
       "      <td>12.000000</td>\n",
       "      <td>100.200000</td>\n",
       "      <td>37.888889</td>\n",
       "    </tr>\n",
       "    <tr>\n",
       "      <th>25%</th>\n",
       "      <td>88.000000</td>\n",
       "      <td>100.600000</td>\n",
       "      <td>38.111111</td>\n",
       "    </tr>\n",
       "    <tr>\n",
       "      <th>50%</th>\n",
       "      <td>316.000000</td>\n",
       "      <td>100.900000</td>\n",
       "      <td>38.277778</td>\n",
       "    </tr>\n",
       "    <tr>\n",
       "      <th>75%</th>\n",
       "      <td>591.000000</td>\n",
       "      <td>101.300000</td>\n",
       "      <td>38.500000</td>\n",
       "    </tr>\n",
       "    <tr>\n",
       "      <th>max</th>\n",
       "      <td>894.000000</td>\n",
       "      <td>101.700000</td>\n",
       "      <td>38.722222</td>\n",
       "    </tr>\n",
       "  </tbody>\n",
       "</table>\n",
       "</div>"
      ],
      "text/plain": [
       "       patient_id  temp_value  temp_celsius\n",
       "count    9.000000    9.000000      9.000000\n",
       "mean   349.333333  100.933333     38.296296\n",
       "std    319.711198    0.561249      0.311805\n",
       "min     12.000000  100.200000     37.888889\n",
       "25%     88.000000  100.600000     38.111111\n",
       "50%    316.000000  100.900000     38.277778\n",
       "75%    591.000000  101.300000     38.500000\n",
       "max    894.000000  101.700000     38.722222"
      ]
     },
     "execution_count": 31,
     "metadata": {},
     "output_type": "execute_result"
    }
   ],
   "source": [
    "df[(df['temp_source'] == 'Core') & (df['temp_value'] > 100)].describe()"
   ]
  },
  {
   "cell_type": "markdown",
   "id": "5d9c19e1",
   "metadata": {},
   "source": [
    "# Data visualization\n",
    "We conclude this module by surveying how Pandas can quickly support and enhance our understanding of a dataset with its many built-in visualization tools.\n",
    "\n",
    "In the next module, we'll be building a machine learning prediction model using a real-world patient dataset. We will use this dataset to demonstrate methods for data visualization in Pandas.\n",
    "\n",
    "Let's see the data! This time, we'll be loading our dataset into a DataFrame variable named `X`."
   ]
  },
  {
   "cell_type": "code",
   "execution_count": 32,
   "id": "088473f7",
   "metadata": {},
   "outputs": [
    {
     "data": {
      "text/html": [
       "<div>\n",
       "<style scoped>\n",
       "    .dataframe tbody tr th:only-of-type {\n",
       "        vertical-align: middle;\n",
       "    }\n",
       "\n",
       "    .dataframe tbody tr th {\n",
       "        vertical-align: top;\n",
       "    }\n",
       "\n",
       "    .dataframe thead th {\n",
       "        text-align: right;\n",
       "    }\n",
       "</style>\n",
       "<table border=\"1\" class=\"dataframe\">\n",
       "  <thead>\n",
       "    <tr style=\"text-align: right;\">\n",
       "      <th></th>\n",
       "      <th>patient_id</th>\n",
       "      <th>sex</th>\n",
       "      <th>ethnicity</th>\n",
       "      <th>race</th>\n",
       "      <th>language</th>\n",
       "      <th>marital_status</th>\n",
       "      <th>age</th>\n",
       "      <th>bmi</th>\n",
       "      <th>admission_source</th>\n",
       "      <th>emergent</th>\n",
       "      <th>...</th>\n",
       "      <th>valve</th>\n",
       "      <th>coag</th>\n",
       "      <th>obese</th>\n",
       "      <th>wghtloss</th>\n",
       "      <th>lytes</th>\n",
       "      <th>anemia</th>\n",
       "      <th>alc_drug</th>\n",
       "      <th>depress</th>\n",
       "      <th>egfr</th>\n",
       "      <th>aki</th>\n",
       "    </tr>\n",
       "  </thead>\n",
       "  <tbody>\n",
       "    <tr>\n",
       "      <th>0</th>\n",
       "      <td>0</td>\n",
       "      <td>MALE</td>\n",
       "      <td>NON-HISPANIC</td>\n",
       "      <td>WHITE</td>\n",
       "      <td>ENGLISH</td>\n",
       "      <td>MARRIED</td>\n",
       "      <td>62.4614</td>\n",
       "      <td>24.6711</td>\n",
       "      <td>NON-TRANSFER</td>\n",
       "      <td>EMERGENCY</td>\n",
       "      <td>...</td>\n",
       "      <td>0</td>\n",
       "      <td>0</td>\n",
       "      <td>1</td>\n",
       "      <td>0</td>\n",
       "      <td>0</td>\n",
       "      <td>0</td>\n",
       "      <td>0</td>\n",
       "      <td>1</td>\n",
       "      <td>82.1529</td>\n",
       "      <td>0</td>\n",
       "    </tr>\n",
       "    <tr>\n",
       "      <th>1</th>\n",
       "      <td>1</td>\n",
       "      <td>MALE</td>\n",
       "      <td>NON-HISPANIC</td>\n",
       "      <td>WHITE</td>\n",
       "      <td>ENGLISH</td>\n",
       "      <td>SINGLE</td>\n",
       "      <td>65.3903</td>\n",
       "      <td>30.5554</td>\n",
       "      <td>TRANSFER</td>\n",
       "      <td>NON-EMERGENCY</td>\n",
       "      <td>...</td>\n",
       "      <td>0</td>\n",
       "      <td>0</td>\n",
       "      <td>0</td>\n",
       "      <td>1</td>\n",
       "      <td>0</td>\n",
       "      <td>1</td>\n",
       "      <td>0</td>\n",
       "      <td>0</td>\n",
       "      <td>104.7827</td>\n",
       "      <td>1</td>\n",
       "    </tr>\n",
       "    <tr>\n",
       "      <th>2</th>\n",
       "      <td>2</td>\n",
       "      <td>FEMALE</td>\n",
       "      <td>NON-HISPANIC</td>\n",
       "      <td>WHITE</td>\n",
       "      <td>ENGLISH</td>\n",
       "      <td>SINGLE</td>\n",
       "      <td>82.6667</td>\n",
       "      <td>40.5842</td>\n",
       "      <td>NON-TRANSFER</td>\n",
       "      <td>NON-EMERGENCY</td>\n",
       "      <td>...</td>\n",
       "      <td>0</td>\n",
       "      <td>0</td>\n",
       "      <td>1</td>\n",
       "      <td>0</td>\n",
       "      <td>0</td>\n",
       "      <td>1</td>\n",
       "      <td>0</td>\n",
       "      <td>0</td>\n",
       "      <td>85.4759</td>\n",
       "      <td>0</td>\n",
       "    </tr>\n",
       "    <tr>\n",
       "      <th>3</th>\n",
       "      <td>3</td>\n",
       "      <td>MALE</td>\n",
       "      <td>NON-HISPANIC</td>\n",
       "      <td>WHITE</td>\n",
       "      <td>ENGLISH</td>\n",
       "      <td>MARRIED</td>\n",
       "      <td>62.1461</td>\n",
       "      <td>22.5506</td>\n",
       "      <td>NON-TRANSFER</td>\n",
       "      <td>EMERGENCY</td>\n",
       "      <td>...</td>\n",
       "      <td>0</td>\n",
       "      <td>1</td>\n",
       "      <td>1</td>\n",
       "      <td>0</td>\n",
       "      <td>1</td>\n",
       "      <td>0</td>\n",
       "      <td>1</td>\n",
       "      <td>0</td>\n",
       "      <td>57.2850</td>\n",
       "      <td>0</td>\n",
       "    </tr>\n",
       "    <tr>\n",
       "      <th>4</th>\n",
       "      <td>4</td>\n",
       "      <td>FEMALE</td>\n",
       "      <td>NON-HISPANIC</td>\n",
       "      <td>WHITE</td>\n",
       "      <td>ENGLISH</td>\n",
       "      <td>MARRIED</td>\n",
       "      <td>43.1582</td>\n",
       "      <td>16.7270</td>\n",
       "      <td>NON-TRANSFER</td>\n",
       "      <td>EMERGENCY</td>\n",
       "      <td>...</td>\n",
       "      <td>0</td>\n",
       "      <td>0</td>\n",
       "      <td>0</td>\n",
       "      <td>0</td>\n",
       "      <td>1</td>\n",
       "      <td>0</td>\n",
       "      <td>1</td>\n",
       "      <td>0</td>\n",
       "      <td>NaN</td>\n",
       "      <td>1</td>\n",
       "    </tr>\n",
       "  </tbody>\n",
       "</table>\n",
       "<p>5 rows × 49 columns</p>\n",
       "</div>"
      ],
      "text/plain": [
       "   patient_id     sex     ethnicity   race language marital_status      age  \\\n",
       "0           0    MALE  NON-HISPANIC  WHITE  ENGLISH        MARRIED  62.4614   \n",
       "1           1    MALE  NON-HISPANIC  WHITE  ENGLISH         SINGLE  65.3903   \n",
       "2           2  FEMALE  NON-HISPANIC  WHITE  ENGLISH         SINGLE  82.6667   \n",
       "3           3    MALE  NON-HISPANIC  WHITE  ENGLISH        MARRIED  62.1461   \n",
       "4           4  FEMALE  NON-HISPANIC  WHITE  ENGLISH        MARRIED  43.1582   \n",
       "\n",
       "       bmi admission_source       emergent  ... valve  coag  obese  wghtloss  \\\n",
       "0  24.6711     NON-TRANSFER      EMERGENCY  ...     0     0      1         0   \n",
       "1  30.5554         TRANSFER  NON-EMERGENCY  ...     0     0      0         1   \n",
       "2  40.5842     NON-TRANSFER  NON-EMERGENCY  ...     0     0      1         0   \n",
       "3  22.5506     NON-TRANSFER      EMERGENCY  ...     0     1      1         0   \n",
       "4  16.7270     NON-TRANSFER      EMERGENCY  ...     0     0      0         0   \n",
       "\n",
       "   lytes  anemia  alc_drug  depress      egfr  aki  \n",
       "0      0       0         0        1   82.1529    0  \n",
       "1      0       1         0        0  104.7827    1  \n",
       "2      0       1         0        0   85.4759    0  \n",
       "3      1       0         1        0   57.2850    0  \n",
       "4      1       0         1        0       NaN    1  \n",
       "\n",
       "[5 rows x 49 columns]"
      ]
     },
     "execution_count": 32,
     "metadata": {},
     "output_type": "execute_result"
    }
   ],
   "source": [
    "X = pd.read_csv('https://www.dropbox.com/scl/fi/itlhhnrhbg9y9b3nnbd7t/data_unprocessed.csv?rlkey=labucmpbah1xu7alhmgrn4511&dl=1')\n",
    "X.head()"
   ]
  },
  {
   "cell_type": "markdown",
   "id": "f35b27a8",
   "metadata": {},
   "source": [
    "First, let's visually examine the distribution of patient age with the pandas `hist()` function, which computes a simple histogram."
   ]
  },
  {
   "cell_type": "code",
   "execution_count": 33,
   "id": "2cf817b3",
   "metadata": {},
   "outputs": [
    {
     "data": {
      "image/png": "[encoded data removed]",
      "text/plain": [
       "<Figure size 640x480 with 1 Axes>"
      ]
     },
     "metadata": {},
     "output_type": "display_data"
    }
   ],
   "source": [
    "hist = X['age'].hist()"
   ]
  },
  {
   "cell_type": "markdown",
   "id": "28f61863",
   "metadata": {},
   "source": [
    "We can modify many parameters of the `hist()` function to create a more informative figure."
   ]
  },
  {
   "cell_type": "code",
   "execution_count": 34,
   "id": "c67d123b",
   "metadata": {},
   "outputs": [
    {
     "data": {
      "text/plain": [
       "<Axes: title={'center': 'Distribution of Patient Age'}, xlabel='Age', ylabel='Count'>"
      ]
     },
     "metadata": {},
     "output_type": "display_data"
    },
    {
     "data": {
      "image/png": "[encoded data removed]",
      "text/plain": [
       "<Figure size 640x480 with 1 Axes>"
      ]
     },
     "metadata": {},
     "output_type": "display_data"
    }
   ],
   "source": [
    "hist = X['age'].hist(bins=72, grid=False)\n",
    "hist.set_title('Distribution of Patient Age')\n",
    "hist.set_ylabel('Count')\n",
    "hist.set_xlabel('Age')\n",
    "display(hist)"
   ]
  },
  {
   "cell_type": "markdown",
   "id": "44145fe4",
   "metadata": {},
   "source": [
    "> **✏️ Exercise:** Visualize the distribution of the body mass index (`bmi`) column. Feel free to first filter out unrealistic BMI values and to experiment with the `bins` parameter of the `hist()` function."
   ]
  },
  {
   "cell_type": "code",
   "execution_count": 35,
   "id": "6ac17451",
   "metadata": {},
   "outputs": [],
   "source": [
    "# Code it!\n"
   ]
  },
  {
   "cell_type": "markdown",
   "id": "6a622496",
   "metadata": {},
   "source": [
    "For continuous variables, we can quickly create box plots (and effortlessly group by categorical groups) from DataFrame columns using the `df.plot.box()` function."
   ]
  },
  {
   "cell_type": "code",
   "execution_count": 36,
   "id": "3a92ebb4",
   "metadata": {},
   "outputs": [
    {
     "data": {
      "text/plain": [
       "age    Axes(0.125,0.11;0.775x0.77)\n",
       "dtype: object"
      ]
     },
     "execution_count": 36,
     "metadata": {},
     "output_type": "execute_result"
    },
    {
     "data": {
      "image/png": "[encoded data removed]",
      "text/plain": [
       "<Figure size 640x480 with 1 Axes>"
      ]
     },
     "metadata": {},
     "output_type": "display_data"
    }
   ],
   "source": [
    "X.plot.box(column='age', by='marital_status')"
   ]
  },
  {
   "cell_type": "markdown",
   "id": "bfa1e495",
   "metadata": {},
   "source": [
    "> **✏️ Exercise:** Practice with the `hist()` and `box()` functions by exploring different columns in our DataFrame. Experiment with data filtering methods to further refine your figures. **Hint:** You can display a list of a DataFrame `df`'s columns with the command `print(df.columns)`."
   ]
  },
  {
   "cell_type": "code",
   "execution_count": 37,
   "id": "705b9371",
   "metadata": {},
   "outputs": [],
   "source": [
    "### Experiment with code!\n"
   ]
  }
 ],
 "metadata": {
  "colab": {
   "provenance": []
  },
  "kernelspec": {
   "display_name": "Python 3 (ipykernel)",
   "language": "python",
   "name": "python3"
  },
  "language_info": {
   "codemirror_mode": {
    "name": "ipython",
    "version": 3
   },
   "file_extension": ".py",
   "mimetype": "text/x-python",
   "name": "python",
   "nbconvert_exporter": "python",
   "pygments_lexer": "ipython3",
   "version": "3.11.5"
  },
  "vscode": {
   "interpreter": {
    "hash": "442d0c0e479a9a390f050bd5e20dc551a2c9cfe478296c9d47f476f59d719e25"
   }
  }
 },
 "nbformat": 4,
 "nbformat_minor": 5
}
